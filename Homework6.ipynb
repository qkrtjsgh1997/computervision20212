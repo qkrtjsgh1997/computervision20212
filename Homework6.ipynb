{
 "cells": [
  {
   "cell_type": "code",
   "execution_count": 1,
   "id": "05612b8c-a6af-457c-b829-c24295f54967",
   "metadata": {},
   "outputs": [],
   "source": [
    "import numpy as np\n",
    "import cv2\n",
    "from matplotlib import pyplot as plt"
   ]
  },
  {
   "cell_type": "code",
   "execution_count": 2,
   "id": "93d7f2df-1601-48e9-af2f-370d07851aed",
   "metadata": {},
   "outputs": [
    {
     "data": {
      "text/plain": [
       "-1"
      ]
     },
     "execution_count": 2,
     "metadata": {},
     "output_type": "execute_result"
    }
   ],
   "source": [
    "MIN_MATCH_COUNT = 10\n",
    "FLANN_INDEX_KDTREE = 0\n",
    "K = 2\n",
    "\n",
    "index_params = dict(algorithm = FLANN_INDEX_KDTREE, trees = 5)\n",
    "search_params = dict(checks = 50)\n",
    "\n",
    "template = cv2.imread('book.jpg', 0)\n",
    "cap = cv2.VideoCapture(0)\n",
    "\n",
    "# 트랙바 선언\n",
    "cv2.namedWindow('image')\n",
    "cv2.createTrackbar('Threshold', 'image', 0, 100, lambda x: None)\n",
    "cv2.setTrackbarPos('Threshold', 'image', 60)\n",
    "\n",
    "sift = cv2.SIFT_create()\n",
    "flann = cv2.FlannBasedMatcher(index_params, search_params)\n",
    "\n",
    "while cap.isOpened():\n",
    "    ret, frame = cap.read()\n",
    "    \n",
    "    threshold = cv2.getTrackbarPos('Threshold','image') / 100.0\n",
    "\n",
    "    gray = cv2.cvtColor(frame, cv2.COLOR_BGR2GRAY)\n",
    "    \n",
    "    kp1, des1 = sift.detectAndCompute(gray, None)\n",
    "    kp2, des2 = sift.detectAndCompute(template, None)\n",
    "    \n",
    "    matches = flann.knnMatch(des1, des2, k=K)\n",
    "    good = [m for (m, n) in matches if (m.distance < threshold * n.distance)]\n",
    "    \n",
    "    matchesMask = None\n",
    "            \n",
    "    if len(good) > MIN_MATCH_COUNT:\n",
    "        src_pts = np.float32([ kp1[m.queryIdx].pt for m in good ]).reshape(-1, 1, 2)\n",
    "        dst_pts = np.float32([ kp2[m.trainIdx].pt for m in good ]).reshape(-1, 1, 2)\n",
    "        \n",
    "        M, mask = cv2.findHomography(src_pts, dst_pts, cv2.RANSAC, 5.0)\n",
    "        matchesMask = mask.ravel().tolist()\n",
    "        \n",
    "        h,w = gray.shape\n",
    "        \n",
    "        pts = np.float32([[0, 0], [0, h-1], [w-1, h-1], [w-1, 0] ]).reshape(-1, 1, 2)\n",
    "        dst = cv2.perspectiveTransform(pts, M)\n",
    "        gray = cv2.polylines(gray, [np.int32(dst)], True, 255, 3, cv2.LINE_AA)\n",
    "        \n",
    "    draw_params = dict(matchColor = (0, 255, 0), singlePointColor = None, matchesMask = matchesMask, flags = 2)\n",
    "    result = cv2.drawMatches(gray, kp1, template, kp2, good, None, **draw_params)\n",
    "\n",
    "    # 이미지 출력\n",
    "    cv2.imshow(\"image\", result)\n",
    "\n",
    "    if cv2.waitKey(40) & 0xFF == ord('q'):\n",
    "        break\n",
    "\n",
    "cap.release()\n",
    "cv2.destroyAllWindows()\n",
    "cv2.waitKey(1)"
   ]
  },
  {
   "cell_type": "code",
   "execution_count": 3,
   "id": "b077ccc4-e677-457e-8f96-a235e2be6d33",
   "metadata": {},
   "outputs": [
    {
     "data": {
      "text/plain": [
       "-1"
      ]
     },
     "execution_count": 3,
     "metadata": {},
     "output_type": "execute_result"
    }
   ],
   "source": [
    "cap.release()\n",
    "cv2.destroyAllWindows()\n",
    "cv2.waitKey(1)"
   ]
  },
  {
   "cell_type": "code",
   "execution_count": null,
   "id": "97d40672-b8f9-4ae7-ac3c-ca467384f71d",
   "metadata": {},
   "outputs": [],
   "source": []
  }
 ],
 "metadata": {
  "kernelspec": {
   "display_name": "Python 3",
   "language": "python",
   "name": "python3"
  },
  "language_info": {
   "codemirror_mode": {
    "name": "ipython",
    "version": 3
   },
   "file_extension": ".py",
   "mimetype": "text/x-python",
   "name": "python",
   "nbconvert_exporter": "python",
   "pygments_lexer": "ipython3",
   "version": "3.9.4"
  }
 },
 "nbformat": 4,
 "nbformat_minor": 5
}
