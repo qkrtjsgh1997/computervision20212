{
 "cells": [
  {
   "cell_type": "markdown",
   "metadata": {},
   "source": [
    "# 1.4.4 Smoothing Images"
   ]
  },
  {
   "cell_type": "markdown",
   "metadata": {},
   "source": [
    "## Kernel Convolution"
   ]
  },
  {
   "cell_type": "code",
   "execution_count": 18,
   "metadata": {},
   "outputs": [],
   "source": [
    "import cv2\n",
    "import numpy as np\n",
    "from matplotlib import pyplot as plt"
   ]
  },
  {
   "cell_type": "code",
   "execution_count": 19,
   "metadata": {},
   "outputs": [],
   "source": [
    "l=1\n",
    "kernel = np.array([[0,-1,0],[-1,4,-1],[0,-1,0]],np.float32)"
   ]
  },
  {
   "cell_type": "code",
   "execution_count": 20,
   "metadata": {},
   "outputs": [
    {
     "data": {
      "text/plain": [
       "array([[ 0., -1.,  0.],\n",
       "       [-1.,  4., -1.],\n",
       "       [ 0., -1.,  0.]], dtype=float32)"
      ]
     },
     "execution_count": 20,
     "metadata": {},
     "output_type": "execute_result"
    }
   ],
   "source": [
    "kernel"
   ]
  },
  {
   "cell_type": "code",
   "execution_count": 21,
   "metadata": {},
   "outputs": [],
   "source": [
    "img = np.random.randint(10, size=(12,12))\n",
    "#img = np.ones((10,10),np.float32)"
   ]
  },
  {
   "cell_type": "code",
   "execution_count": 22,
   "metadata": {},
   "outputs": [
    {
     "data": {
      "text/plain": [
       "array([[5, 5, 4, 4, 2, 5, 9, 7, 6, 3, 0, 3],\n",
       "       [4, 5, 6, 9, 6, 8, 0, 2, 4, 1, 9, 1],\n",
       "       [3, 4, 2, 5, 3, 7, 8, 6, 2, 3, 9, 6],\n",
       "       [9, 7, 1, 3, 1, 0, 0, 7, 1, 6, 4, 2],\n",
       "       [7, 9, 4, 6, 5, 0, 5, 6, 5, 3, 9, 1],\n",
       "       [0, 3, 6, 2, 5, 6, 4, 0, 0, 8, 1, 1],\n",
       "       [2, 3, 4, 9, 1, 9, 9, 2, 0, 3, 3, 5],\n",
       "       [3, 4, 4, 9, 2, 9, 5, 1, 6, 0, 5, 4],\n",
       "       [3, 6, 9, 8, 4, 6, 1, 3, 9, 9, 2, 9],\n",
       "       [9, 8, 3, 4, 9, 2, 0, 1, 9, 3, 5, 3],\n",
       "       [2, 5, 7, 0, 8, 5, 0, 6, 5, 3, 3, 7],\n",
       "       [2, 7, 3, 8, 5, 5, 3, 5, 2, 3, 5, 2]])"
      ]
     },
     "execution_count": 22,
     "metadata": {},
     "output_type": "execute_result"
    }
   ],
   "source": [
    "img"
   ]
  },
  {
   "cell_type": "code",
   "execution_count": 23,
   "metadata": {},
   "outputs": [],
   "source": [
    "h,w=img.shape"
   ]
  },
  {
   "cell_type": "code",
   "execution_count": 24,
   "metadata": {},
   "outputs": [
    {
     "name": "stdout",
     "output_type": "stream",
     "text": [
      "12 12\n"
     ]
    }
   ],
   "source": [
    "print(h,w)"
   ]
  },
  {
   "cell_type": "code",
   "execution_count": 25,
   "metadata": {},
   "outputs": [],
   "source": [
    "#[*range(-2,3)]"
   ]
  },
  {
   "cell_type": "code",
   "execution_count": 26,
   "metadata": {},
   "outputs": [
    {
     "name": "stderr",
     "output_type": "stream",
     "text": [
      "<ipython-input-26-6137fcb8b1c2>:1: DeprecationWarning: `np.int` is a deprecated alias for the builtin `int`. To silence this warning, use `int` by itself. Doing this will not modify any behavior and is safe. When replacing `np.int`, you may wish to use e.g. `np.int64` or `np.int32` to specify the precision. If you wish to review your current use, check the release note link for additional information.\n",
      "Deprecated in NumPy 1.20; for more details and guidance: https://numpy.org/devdocs/release/1.20.0-notes.html#deprecations\n",
      "  dst = np.zeros((h,w),np.int)\n"
     ]
    }
   ],
   "source": [
    "dst = np.zeros((h,w),np.int)"
   ]
  },
  {
   "cell_type": "code",
   "execution_count": 27,
   "metadata": {},
   "outputs": [],
   "source": [
    "for i in range(l,h-l):\n",
    "    for j in range(l,w-l):\n",
    "        t=0\n",
    "        for p in range(-l,l+1):\n",
    "            for q in range(-l,l+1):\n",
    "                t += kernel[p+l,q+l]*img[i+p,j+q]\n",
    "        dst[i,j]=t        "
   ]
  },
  {
   "cell_type": "code",
   "execution_count": 28,
   "metadata": {},
   "outputs": [
    {
     "data": {
      "text/plain": [
       "array([[5, 5, 4, 4, 2, 5, 9, 7, 6, 3, 0, 3],\n",
       "       [4, 5, 6, 9, 6, 8, 0, 2, 4, 1, 9, 1],\n",
       "       [3, 4, 2, 5, 3, 7, 8, 6, 2, 3, 9, 6],\n",
       "       [9, 7, 1, 3, 1, 0, 0, 7, 1, 6, 4, 2],\n",
       "       [7, 9, 4, 6, 5, 0, 5, 6, 5, 3, 9, 1],\n",
       "       [0, 3, 6, 2, 5, 6, 4, 0, 0, 8, 1, 1],\n",
       "       [2, 3, 4, 9, 1, 9, 9, 2, 0, 3, 3, 5],\n",
       "       [3, 4, 4, 9, 2, 9, 5, 1, 6, 0, 5, 4],\n",
       "       [3, 6, 9, 8, 4, 6, 1, 3, 9, 9, 2, 9],\n",
       "       [9, 8, 3, 4, 9, 2, 0, 1, 9, 3, 5, 3],\n",
       "       [2, 5, 7, 0, 8, 5, 0, 6, 5, 3, 3, 7],\n",
       "       [2, 7, 3, 8, 5, 5, 3, 5, 2, 3, 5, 2]])"
      ]
     },
     "execution_count": 28,
     "metadata": {},
     "output_type": "execute_result"
    }
   ],
   "source": [
    "img"
   ]
  },
  {
   "cell_type": "code",
   "execution_count": 29,
   "metadata": {},
   "outputs": [
    {
     "data": {
      "text/plain": [
       "array([[  0,   0,   0,   0,   0,   0,   0,   0,   0,   0,   0,   0],\n",
       "       [  0,   1,   4,  15,   2,  14, -27,  -9,   5, -15,  25,   0],\n",
       "       [  0,  -1,  -8,   3,  -7,   9,  19,   5,  -6,  -6,  14,   0],\n",
       "       [  0,   5, -12,  -1,  -7,  -8, -20,  15, -16,  13, -10,   0],\n",
       "       [  0,  15,  -6,  10,   8, -16,  10,   7,  10, -16,  27,   0],\n",
       "       [  0,  -6,  11, -18,   6,   6,  -4, -12, -13,  25, -17,   0],\n",
       "       [  0,  -1,  -6,  20, -21,  11,  16,  -2, -11,   1,  -2,   0],\n",
       "       [  0,   0, -10,  13, -15,  14,   0, -12,  14, -23,  11,   0],\n",
       "       [  0,   0,  15,   6,  -9,   8, -10,   0,   9,  22, -20,   0],\n",
       "       [  0,   9, -16,  -4,  18, -12,  -4, -14,  18, -14,   9,   0],\n",
       "       [  0,  -4,  17, -27,  13,   5, -14,  13,   0,  -2,  -8,   0],\n",
       "       [  0,   0,   0,   0,   0,   0,   0,   0,   0,   0,   0,   0]])"
      ]
     },
     "execution_count": 29,
     "metadata": {},
     "output_type": "execute_result"
    }
   ],
   "source": [
    "dst"
   ]
  },
  {
   "cell_type": "code",
   "execution_count": 30,
   "metadata": {},
   "outputs": [],
   "source": [
    "img = cv2.imread('lena.png', 0)"
   ]
  },
  {
   "cell_type": "code",
   "execution_count": 31,
   "metadata": {},
   "outputs": [],
   "source": [
    "h,w=img.shape"
   ]
  },
  {
   "cell_type": "code",
   "execution_count": 35,
   "metadata": {},
   "outputs": [],
   "source": [
    "l=1\n",
    "kernel = np.array([[0,-1,0],[-1,5,-1],[0,-1,0]],np.float32)"
   ]
  },
  {
   "cell_type": "code",
   "execution_count": 36,
   "metadata": {},
   "outputs": [],
   "source": [
    "dst = np.zeros((h-2*l,w-2*l),np.uint8)"
   ]
  },
  {
   "cell_type": "code",
   "execution_count": 37,
   "metadata": {},
   "outputs": [],
   "source": [
    "for i in range(l,h-l):\n",
    "    for j in range(l,w-l):\n",
    "        t=0\n",
    "        for p in range(-l,l+1):\n",
    "            for q in range(-l,l+1):\n",
    "                t += kernel[p+l,q+l]*img[i+p,j+q]\n",
    "        dst[i-l,j-l]=t "
   ]
  },
  {
   "cell_type": "code",
   "execution_count": 38,
   "metadata": {},
   "outputs": [],
   "source": [
    "cv2.imshow('img',img)\n",
    "cv2.imshow('dst',dst)\n",
    "cv2.waitKey(0)\n",
    "cv2.destroyAllWindows()"
   ]
  }
 ],
 "metadata": {
  "kernelspec": {
   "display_name": "Python 3",
   "language": "python",
   "name": "python3"
  },
  "language_info": {
   "codemirror_mode": {
    "name": "ipython",
    "version": 3
   },
   "file_extension": ".py",
   "mimetype": "text/x-python",
   "name": "python",
   "nbconvert_exporter": "python",
   "pygments_lexer": "ipython3",
   "version": "3.9.4"
  }
 },
 "nbformat": 4,
 "nbformat_minor": 4
}
