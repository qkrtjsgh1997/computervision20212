{
 "cells": [
  {
   "cell_type": "code",
   "execution_count": 1,
   "id": "9966da25-8f62-419b-98b7-21077c090803",
   "metadata": {},
   "outputs": [],
   "source": [
    "li = [3,6,2,7]"
   ]
  },
  {
   "cell_type": "code",
   "execution_count": 2,
   "id": "95b9efaa-d082-4eb6-a52b-f19f9828938a",
   "metadata": {},
   "outputs": [
    {
     "data": {
      "text/plain": [
       "[6, 12, 4, 14]"
      ]
     },
     "execution_count": 2,
     "metadata": {},
     "output_type": "execute_result"
    }
   ],
   "source": [
    "[elem*2 for elem in li]"
   ]
  },
  {
   "cell_type": "code",
   "execution_count": 3,
   "id": "d6f14bf4-a0a3-4918-9e2b-6819fe47d118",
   "metadata": {},
   "outputs": [],
   "source": [
    "li = [('a',1), ('b',2), ('c',7)]"
   ]
  },
  {
   "cell_type": "code",
   "execution_count": 4,
   "id": "543453bc-0926-4674-99ab-dc83f6da6dcf",
   "metadata": {},
   "outputs": [
    {
     "data": {
      "text/plain": [
       "[3, 6, 21]"
      ]
     },
     "execution_count": 4,
     "metadata": {},
     "output_type": "execute_result"
    }
   ],
   "source": [
    "[n * 3 for (x,n)in li]"
   ]
  },
  {
   "cell_type": "code",
   "execution_count": 5,
   "id": "f6a2c1be-edd8-4856-8e59-72ed57196ff0",
   "metadata": {},
   "outputs": [],
   "source": [
    "li = [3, 6, 2, 7, 1, 9]"
   ]
  },
  {
   "cell_type": "code",
   "execution_count": 6,
   "id": "2bca9c10-827d-40ce-9998-9f9cb71afb91",
   "metadata": {},
   "outputs": [
    {
     "data": {
      "text/plain": [
       "[12, 14, 18]"
      ]
     },
     "execution_count": 6,
     "metadata": {},
     "output_type": "execute_result"
    }
   ],
   "source": [
    "[elem * 2for elem in li if elem > 4]"
   ]
  },
  {
   "cell_type": "code",
   "execution_count": 7,
   "id": "59e09c09-4ba2-48fd-a4e3-8c3d8b631981",
   "metadata": {},
   "outputs": [],
   "source": [
    "li= [3, 2, 4, 1]"
   ]
  },
  {
   "cell_type": "code",
   "execution_count": 8,
   "id": "7ff25311-8a78-4970-9ebd-5d81b28ee099",
   "metadata": {},
   "outputs": [
    {
     "data": {
      "text/plain": [
       "[8, 6, 10, 4]"
      ]
     },
     "execution_count": 8,
     "metadata": {},
     "output_type": "execute_result"
    }
   ],
   "source": [
    "[elem*2 for elem in \n",
    " [item+1 for item in li] ]"
   ]
  },
  {
   "cell_type": "code",
   "execution_count": 9,
   "id": "ead69c74-0c28-41c5-867b-37114ef2cf1f",
   "metadata": {},
   "outputs": [
    {
     "data": {
      "text/plain": [
       "[5, 4, 6, 3]"
      ]
     },
     "execution_count": 9,
     "metadata": {},
     "output_type": "execute_result"
    }
   ],
   "source": [
    "[elem*1 for elem in \n",
    " [item+2 for item in li] ]"
   ]
  },
  {
   "cell_type": "code",
   "execution_count": null,
   "id": "dcc94ce1-570e-4efb-96bb-c110de465d27",
   "metadata": {},
   "outputs": [],
   "source": []
  }
 ],
 "metadata": {
  "kernelspec": {
   "display_name": "Python 3",
   "language": "python",
   "name": "python3"
  },
  "language_info": {
   "codemirror_mode": {
    "name": "ipython",
    "version": 3
   },
   "file_extension": ".py",
   "mimetype": "text/x-python",
   "name": "python",
   "nbconvert_exporter": "python",
   "pygments_lexer": "ipython3",
   "version": "3.8.8"
  }
 },
 "nbformat": 4,
 "nbformat_minor": 5
}
